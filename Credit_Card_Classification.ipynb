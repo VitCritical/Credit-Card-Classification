{
  "nbformat": 4,
  "nbformat_minor": 0,
  "metadata": {
    "colab": {
      "provenance": []
    },
    "kernelspec": {
      "name": "python3",
      "display_name": "Python 3"
    },
    "language_info": {
      "name": "python"
    }
  },
  "cells": [
    {
      "cell_type": "markdown",
      "metadata": {
        "id": "d853f3c3"
      },
      "source": [
        "# Credit Card Default Prediction Project Documentation\n",
        "\n",
        "The project involves data loading, preprocessing, feature engineering, model training, and evaluation using PySpark."
      ]
    },
    {
      "cell_type": "markdown",
      "source": [
        "###Installing Pyspark\n"
      ],
      "metadata": {
        "id": "3Zl-5Anh8wow"
      }
    },
    {
      "cell_type": "code",
      "metadata": {
        "colab": {
          "base_uri": "https://localhost:8080/"
        },
        "id": "0eea1f5c",
        "outputId": "6bc7b8c0-4f6b-4453-d37b-63187a075d28"
      },
      "source": [
        "!pip install pyspark"
      ],
      "execution_count": null,
      "outputs": [
        {
          "output_type": "stream",
          "name": "stdout",
          "text": [
            "Requirement already satisfied: pyspark in /usr/local/lib/python3.12/dist-packages (3.5.1)\n",
            "Requirement already satisfied: py4j==0.10.9.7 in /usr/local/lib/python3.12/dist-packages (from pyspark) (0.10.9.7)\n"
          ]
        }
      ]
    },
    {
      "cell_type": "markdown",
      "source": [
        "###Importing required Libraries and prerequisites\n"
      ],
      "metadata": {
        "id": "qOFlPs5W8J6W"
      }
    },
    {
      "cell_type": "code",
      "metadata": {
        "id": "401ca271"
      },
      "source": [
        "from pyspark.sql import Row,SparkSession\n",
        "from pyspark.sql.functions import mean,mode, abs, round, col, when, count, sum\n",
        "from pyspark.sql.types import *\n",
        "from pyspark.ml.feature import StringIndexer, OneHotEncoder, VectorAssembler,StandardScaler, MinMaxScaler\n",
        "from pyspark.ml.classification import LogisticRegression\n",
        "from pyspark.ml.evaluation import BinaryClassificationEvaluator\n",
        "import matplotlib.pyplot as plt\n",
        "import seaborn as sns\n",
        "import pandas as pd"
      ],
      "execution_count": null,
      "outputs": []
    },
    {
      "cell_type": "markdown",
      "metadata": {
        "id": "73333d72"
      },
      "source": [
        "## Data Loading and Initial Exploration\n",
        "\n",
        "The project starts by loading two datasets: `Credit_card.csv` containing customer information and `Credit_card_label.csv` containing the target variable (default status). These datasets are joined based on the `Ind_ID` column."
      ]
    },
    {
      "cell_type": "markdown",
      "source": [
        "###Creating a Spark Session and reading the **CSV** datasets"
      ],
      "metadata": {
        "id": "FLPtnVGv80jC"
      }
    },
    {
      "cell_type": "code",
      "metadata": {
        "colab": {
          "base_uri": "https://localhost:8080/"
        },
        "id": "23df6542",
        "outputId": "dc682d86-db84-4131-d2cb-dc24300a9b0b"
      },
      "source": [
        "spark = SparkSession.builder.appName(\"CreditCardAnalysis\").getOrCreate()\n",
        "\n",
        "df = spark.read.csv(\"/content/Credit_card.csv\", header=True, inferSchema=True)\n",
        "y = spark.read.csv(\"/content/Credit_card_label.csv\", header=True, inferSchema=True)\n",
        "\n",
        "# Join the dataframes on Ind_ID\n",
        "df = df.join(y, on=\"Ind_ID\", how=\"inner\")\n",
        "\n",
        "df.show(20)\n",
        "print(df.count())"
      ],
      "execution_count": null,
      "outputs": [
        {
          "output_type": "stream",
          "name": "stdout",
          "text": [
            "+-------+------+---------+-------------+--------+-------------+--------------------+--------------------+--------------------+-----------------+--------------+-------------+------------+----------+-----+--------+---------------+--------------+-----+\n",
            "| Ind_ID|GENDER|Car_Owner|Propert_Owner|CHILDREN|Annual_income|         Type_Income|           EDUCATION|      Marital_status|     Housing_type|Birthday_count|Employed_days|Mobile_phone|Work_Phone|Phone|EMAIL_ID|Type_Occupation|Family_Members|label|\n",
            "+-------+------+---------+-------------+--------+-------------+--------------------+--------------------+--------------------+-----------------+--------------+-------------+------------+----------+-----+--------+---------------+--------------+-----+\n",
            "|5008827|     M|        Y|            Y|       0|     180000.0|           Pensioner|    Higher education|             Married|House / apartment|        -18772|       365243|           1|         0|    0|       0|           NULL|             2|    1|\n",
            "|5009744|     F|        Y|            N|       0|     315000.0|Commercial associate|    Higher education|             Married|House / apartment|        -13557|         -586|           1|         1|    1|       0|           NULL|             2|    1|\n",
            "|5009746|     F|        Y|            N|       0|     315000.0|Commercial associate|    Higher education|             Married|House / apartment|          NULL|         -586|           1|         1|    1|       0|           NULL|             2|    1|\n",
            "|5009749|     F|        Y|            N|       0|         NULL|Commercial associate|    Higher education|             Married|House / apartment|        -13557|         -586|           1|         1|    1|       0|           NULL|             2|    1|\n",
            "|5009752|     F|        Y|            N|       0|     315000.0|Commercial associate|    Higher education|             Married|House / apartment|        -13557|         -586|           1|         1|    1|       0|           NULL|             2|    1|\n",
            "|5009753|  NULL|        Y|            N|       0|     315000.0|           Pensioner|    Higher education|             Married|House / apartment|        -13557|         -586|           1|         1|    1|       0|           NULL|             2|    1|\n",
            "|5009754|     F|        Y|            N|       0|     315000.0|Commercial associate|    Higher education|             Married|House / apartment|        -13557|         -586|           1|         1|    1|       0|           NULL|             2|    1|\n",
            "|5009894|     F|        N|            N|       0|     180000.0|           Pensioner|Secondary / secon...|             Married|House / apartment|        -22134|       365243|           1|         0|    0|       0|           NULL|             2|    1|\n",
            "|5010864|     M|        Y|            Y|       1|     450000.0|Commercial associate|Secondary / secon...|             Married|House / apartment|        -18173|         -678|           1|         0|    1|       1|     Core staff|             3|    1|\n",
            "|5010868|     M|        Y|            Y|       1|     450000.0|           Pensioner|Secondary / secon...|             Married|House / apartment|        -18173|         -678|           1|         0|    1|       1|     Core staff|             3|    1|\n",
            "|5010869|     M|        Y|            Y|       1|     450000.0|Commercial associate|Secondary / secon...|Single / not married|House / apartment|        -18173|         -678|           1|         0|    1|       1|     Core staff|             1|    1|\n",
            "|5018498|     F|        Y|            Y|       0|      90000.0|             Working|Secondary / secon...|             Married|House / apartment|        -18950|        -1002|           1|         1|    1|       0|  Cooking staff|             2|    1|\n",
            "|5018501|     F|        Y|            Y|       0|         NULL|             Working|Secondary / secon...|             Married|House / apartment|        -18950|        -1002|           1|         1|    1|       0|  Cooking staff|             2|    1|\n",
            "|5018503|     F|        Y|            Y|       0|      90000.0|             Working|Secondary / secon...|             Married|House / apartment|        -18950|        -1002|           1|         1|    1|       0|  Cooking staff|             2|    1|\n",
            "|5021303|     M|        N|            N|       1|     472500.0|           Pensioner|    Higher education|             Married|     With parents|         -8907|         -913|           1|         0|    0|       1|           NULL|             3|    1|\n",
            "|5021310|     M|        N|            Y|       0|     270000.0|             Working|Secondary / secon...|             Married|House / apartment|        -16896|         -248|           1|         0|    0|       0|       Laborers|             2|    1|\n",
            "|5021314|     M|        N|            Y|       0|     270000.0|             Working|Secondary / secon...|Single / not married|House / apartment|        -16896|         -248|           1|         0|    0|       0|       Laborers|             2|    1|\n",
            "|5021430|     F|        N|            Y|       0|     126000.0|Commercial associate|    Higher education|Single / not married|House / apartment|        -18907|        -2470|           1|         0|    0|       0|    Sales staff|             1|    1|\n",
            "|5021431|     F|        N|            Y|       0|     126000.0|Commercial associate|    Higher education|Single / not married|House / apartment|        -18907|        -2470|           1|         0|    0|       0|    Sales staff|             1|    1|\n",
            "|5021998|     M|        N|            Y|       0|      90000.0|           Pensioner|Secondary / secon...|             Married|House / apartment|        -18863|        -1644|           1|         0|    0|       1|           NULL|             2|    1|\n",
            "+-------+------+---------+-------------+--------+-------------+--------------------+--------------------+--------------------+-----------------+--------------+-------------+------------+----------+-----+--------+---------------+--------------+-----+\n",
            "only showing top 20 rows\n",
            "\n",
            "1548\n"
          ]
        }
      ]
    },
    {
      "cell_type": "code",
      "source": [
        "count_label_0 = df.filter(df.label == 0).count()\n",
        "count_label_1 = df.filter(df.label == 1).count()\n",
        "print(f\"Number of entries with label 0: {count_label_0}\")\n",
        "print(f\"Number of entries with label 1: {count_label_1}\")"
      ],
      "metadata": {
        "colab": {
          "base_uri": "https://localhost:8080/"
        },
        "id": "PSQAC_-emiOl",
        "outputId": "85aac87e-f726-49bd-b29c-f4a746c89d54"
      },
      "execution_count": null,
      "outputs": [
        {
          "output_type": "stream",
          "name": "stdout",
          "text": [
            "Number of entries with label 0: 1373\n",
            "Number of entries with label 1: 175\n"
          ]
        }
      ]
    },
    {
      "cell_type": "markdown",
      "metadata": {
        "id": "7562ff63"
      },
      "source": [
        "## Data Preprocessing\n",
        "\n",
        "This section focuses on handling missing values and irrelevant columns. Columns like `Ind_ID`, `Mobile_phone`, `Work_Phone`, `Phone`, and `EMAIL_ID` are dropped as they are not considered relevant for the prediction task. Missing values in `Type_Occupation` are filled with \"Unknown\", and missing values in `Annual_income` and `Gender` are imputed with the mean and mode respectively. New features like `Age` and `Employment_Status` are derived from existing columns."
      ]
    },
    {
      "cell_type": "code",
      "source": [
        "\n",
        "\n",
        "null_counts = df.select([sum(col(c).isNull().cast(\"integer\")).alias(c) for c in df.columns])\n",
        "null_counts.show()"
      ],
      "metadata": {
        "colab": {
          "base_uri": "https://localhost:8080/"
        },
        "id": "oHUQN0B-jo8G",
        "outputId": "219ba9d2-bb8b-40c6-9bf1-0c9ef16fe663"
      },
      "execution_count": null,
      "outputs": [
        {
          "output_type": "stream",
          "name": "stdout",
          "text": [
            "+------+------+---------+-------------+--------+-------------+-----------+---------+--------------+------------+--------------+-------------+------------+----------+-----+--------+---------------+--------------+-----+\n",
            "|Ind_ID|GENDER|Car_Owner|Propert_Owner|CHILDREN|Annual_income|Type_Income|EDUCATION|Marital_status|Housing_type|Birthday_count|Employed_days|Mobile_phone|Work_Phone|Phone|EMAIL_ID|Type_Occupation|Family_Members|label|\n",
            "+------+------+---------+-------------+--------+-------------+-----------+---------+--------------+------------+--------------+-------------+------------+----------+-----+--------+---------------+--------------+-----+\n",
            "|     0|     7|        0|            0|       0|           23|          0|        0|             0|           0|            22|            0|           0|         0|    0|       0|            488|             0|    0|\n",
            "+------+------+---------+-------------+--------+-------------+-----------+---------+--------------+------------+--------------+-------------+------------+----------+-----+--------+---------------+--------------+-----+\n",
            "\n"
          ]
        }
      ]
    },
    {
      "cell_type": "code",
      "source": [
        "df = df.drop(\"Ind_ID\",\"Mobile_phone\",\"Work_Phone\",\"Phone\",\"EMAIL_ID\")\n",
        "df = df.fillna({\"Type_Occupation\" : \"Unknown\"})"
      ],
      "metadata": {
        "id": "i-IKju7brszO"
      },
      "execution_count": null,
      "outputs": []
    },
    {
      "cell_type": "code",
      "source": [
        "from pyspark.sql.functions import col, sum\n",
        "\n",
        "null_counts = df.select([sum(col(c).isNull().cast(\"integer\")).alias(c) for c in df.columns])\n",
        "null_counts.show()"
      ],
      "metadata": {
        "colab": {
          "base_uri": "https://localhost:8080/"
        },
        "id": "eL4jbKH2tP4k",
        "outputId": "e30cb388-794b-49aa-cbf5-d09c2fe1f248"
      },
      "execution_count": null,
      "outputs": [
        {
          "output_type": "stream",
          "name": "stdout",
          "text": [
            "+------+---------+-------------+--------+-------------+-----------+---------+--------------+------------+--------------+-------------+---------------+--------------+-----+\n",
            "|GENDER|Car_Owner|Propert_Owner|CHILDREN|Annual_income|Type_Income|EDUCATION|Marital_status|Housing_type|Birthday_count|Employed_days|Type_Occupation|Family_Members|label|\n",
            "+------+---------+-------------+--------+-------------+-----------+---------+--------------+------------+--------------+-------------+---------------+--------------+-----+\n",
            "|     7|        0|            0|       0|           23|          0|        0|             0|           0|            22|            0|              0|             0|    0|\n",
            "+------+---------+-------------+--------+-------------+-----------+---------+--------------+------------+--------------+-------------+---------------+--------------+-----+\n",
            "\n"
          ]
        }
      ]
    },
    {
      "cell_type": "code",
      "source": [
        "# Convert Spark DataFrame to Pandas DataFrame for visualization\n",
        "null_counts_pd = null_counts.toPandas()\n",
        "\n",
        "# Transpose the DataFrame for plotting\n",
        "null_counts_pd_transposed = null_counts_pd.melt(var_name='Column_Name', value_name='Null_Count')\n",
        "\n",
        "plt.figure(figsize=(10, 6))\n",
        "sns.barplot(x='Column_Name', y='Null_Count', data=null_counts_pd_transposed)\n",
        "plt.xticks(rotation=90)\n",
        "plt.title('Null Value Count per Column')\n",
        "plt.xlabel('Column Name')\n",
        "plt.ylabel('Null Count')\n",
        "plt.tight_layout()\n",
        "plt.show()"
      ],
      "metadata": {
        "colab": {
          "base_uri": "https://localhost:8080/",
          "height": 528
        },
        "id": "P0YUWzmeq5oJ",
        "outputId": "61603a56-97e4-4567-93ed-c4b94c26d230"
      },
      "execution_count": null,
      "outputs": [
        {
          "output_type": "display_data",
          "data": {
            "text/plain": [
              "<Figure size 1000x600 with 1 Axes>"
            ],
            "image/png": "[encoded data removed]"
          },
          "metadata": {}
        }
      ]
    },
    {
      "cell_type": "code",
      "source": [
        "\n",
        "\n",
        "mean_income = df.select(mean(\"Annual_income\")).collect()[0][0]\n",
        "df = df.fillna({\"Annual_income\":mean_income})\n",
        "\n",
        "# Round off Annual_income to 1 decimal place\n",
        "df = df.withColumn(\"Annual_income\", round(col(\"Annual_income\"), 1))\n",
        "\n",
        "mode_gender = df.select(\"Gender\").agg(mode(\"Gender\")).collect()[0][0]\n",
        "df = df.fillna({\"Gender\":mode_gender})\n",
        "\n",
        "df = df.withColumn(\"Age\", round(abs(col(\"Birthday_count\") / 365)).cast(\"integer\"))\n",
        "\n",
        "df = df.withColumn(\"Employment_Status\", when(col(\"Employed_days\") > 0, None).otherwise(abs(col(\"Employed_days\"))))\n",
        "\n",
        "df = df.dropna(subset=['Age'])\n",
        "df = df.dropna(subset=['Employment_Status'])\n",
        "df = df.drop(\"Employed_days\",\"Birthday_count\")\n",
        "df.show()\n",
        "print(df.count())"
      ],
      "metadata": {
        "colab": {
          "base_uri": "https://localhost:8080/"
        },
        "id": "0bK2yEvZdhqk",
        "outputId": "c9d6e975-83e1-4e08-d36b-d896378a0c2e"
      },
      "execution_count": null,
      "outputs": [
        {
          "output_type": "stream",
          "name": "stdout",
          "text": [
            "+------+---------+-------------+--------+-------------+--------------------+--------------------+--------------------+-----------------+---------------+--------------+-----+---+-----------------+\n",
            "|GENDER|Car_Owner|Propert_Owner|CHILDREN|Annual_income|         Type_Income|           EDUCATION|      Marital_status|     Housing_type|Type_Occupation|Family_Members|label|Age|Employment_Status|\n",
            "+------+---------+-------------+--------+-------------+--------------------+--------------------+--------------------+-----------------+---------------+--------------+-----+---+-----------------+\n",
            "|     F|        Y|            N|       0|     315000.0|Commercial associate|    Higher education|             Married|House / apartment|        Unknown|             2|    1| 37|              586|\n",
            "|     F|        Y|            N|       0|     191399.3|Commercial associate|    Higher education|             Married|House / apartment|        Unknown|             2|    1| 37|              586|\n",
            "|     F|        Y|            N|       0|     315000.0|Commercial associate|    Higher education|             Married|House / apartment|        Unknown|             2|    1| 37|              586|\n",
            "|     F|        Y|            N|       0|     315000.0|           Pensioner|    Higher education|             Married|House / apartment|        Unknown|             2|    1| 37|              586|\n",
            "|     F|        Y|            N|       0|     315000.0|Commercial associate|    Higher education|             Married|House / apartment|        Unknown|             2|    1| 37|              586|\n",
            "|     M|        Y|            Y|       1|     450000.0|Commercial associate|Secondary / secon...|             Married|House / apartment|     Core staff|             3|    1| 50|              678|\n",
            "|     M|        Y|            Y|       1|     450000.0|           Pensioner|Secondary / secon...|             Married|House / apartment|     Core staff|             3|    1| 50|              678|\n",
            "|     M|        Y|            Y|       1|     450000.0|Commercial associate|Secondary / secon...|Single / not married|House / apartment|     Core staff|             1|    1| 50|              678|\n",
            "|     F|        Y|            Y|       0|      90000.0|             Working|Secondary / secon...|             Married|House / apartment|  Cooking staff|             2|    1| 52|             1002|\n",
            "|     F|        Y|            Y|       0|     191399.3|             Working|Secondary / secon...|             Married|House / apartment|  Cooking staff|             2|    1| 52|             1002|\n",
            "|     F|        Y|            Y|       0|      90000.0|             Working|Secondary / secon...|             Married|House / apartment|  Cooking staff|             2|    1| 52|             1002|\n",
            "|     M|        N|            N|       1|     472500.0|           Pensioner|    Higher education|             Married|     With parents|        Unknown|             3|    1| 24|              913|\n",
            "|     M|        N|            Y|       0|     270000.0|             Working|Secondary / secon...|             Married|House / apartment|       Laborers|             2|    1| 46|              248|\n",
            "|     M|        N|            Y|       0|     270000.0|             Working|Secondary / secon...|Single / not married|House / apartment|       Laborers|             2|    1| 46|              248|\n",
            "|     F|        N|            Y|       0|     126000.0|Commercial associate|    Higher education|Single / not married|House / apartment|    Sales staff|             1|    1| 52|             2470|\n",
            "|     F|        N|            Y|       0|     126000.0|Commercial associate|    Higher education|Single / not married|House / apartment|    Sales staff|             1|    1| 52|             2470|\n",
            "|     M|        N|            Y|       0|      90000.0|           Pensioner|Secondary / secon...|             Married|House / apartment|        Unknown|             2|    1| 52|             1644|\n",
            "|     M|        N|            N|       0|     202500.0|             Working|    Higher education|Single / not married|House / apartment|        Unknown|             1|    1| 35|             4327|\n",
            "|     M|        Y|            Y|       0|     202500.0|Commercial associate|Secondary / secon...|      Civil marriage|House / apartment|       Laborers|             2|    1| 33|             1674|\n",
            "|     M|        N|            Y|       0|     157500.0|Commercial associate|    Higher education|      Civil marriage|House / apartment|    Accountants|             2|    1| 49|             1086|\n",
            "+------+---------+-------------+--------+-------------+--------------------+--------------------+--------------------+-----------------+---------------+--------------+-----+---+-----------------+\n",
            "only showing top 20 rows\n",
            "\n",
            "1269\n"
          ]
        }
      ]
    },
    {
      "cell_type": "code",
      "source": [
        "\n",
        "\n",
        "null_counts = df.select([sum(col(c).isNull().cast(\"integer\")).alias(c) for c in df.columns])\n",
        "null_counts.show()"
      ],
      "metadata": {
        "colab": {
          "base_uri": "https://localhost:8080/"
        },
        "id": "-NXdNuLQklNl",
        "outputId": "79cdbab1-4ec2-4440-d09f-93df245d62df"
      },
      "execution_count": null,
      "outputs": [
        {
          "output_type": "stream",
          "name": "stdout",
          "text": [
            "+------+---------+-------------+--------+-------------+-----------+---------+--------------+------------+---------------+--------------+-----+---+-----------------+\n",
            "|GENDER|Car_Owner|Propert_Owner|CHILDREN|Annual_income|Type_Income|EDUCATION|Marital_status|Housing_type|Type_Occupation|Family_Members|label|Age|Employment_Status|\n",
            "+------+---------+-------------+--------+-------------+-----------+---------+--------------+------------+---------------+--------------+-----+---+-----------------+\n",
            "|     0|        0|            0|       0|            0|          0|        0|             0|           0|              0|             0|    0|  0|                0|\n",
            "+------+---------+-------------+--------+-------------+-----------+---------+--------------+------------+---------------+--------------+-----+---+-----------------+\n",
            "\n"
          ]
        }
      ]
    },
    {
      "cell_type": "code",
      "metadata": {
        "colab": {
          "base_uri": "https://localhost:8080/"
        },
        "id": "66fd18d0",
        "outputId": "71dda170-43b7-4518-b3e5-1731c8e6de40"
      },
      "source": [
        "\n",
        "\n",
        "unique_counts_data = []\n",
        "columns_to_exclude = [\"Annual_income\", \"Birthday_count\", \"Employment_Status\"]\n",
        "for col_name in df.columns:\n",
        "  if col_name not in columns_to_exclude:\n",
        "      unique_count = df.select(col_name).distinct().count()\n",
        "      unique_counts_data.append(Row(Column_Name=col_name, Unique_Count=unique_count))\n",
        "\n",
        "unique_counts_df = spark.createDataFrame(unique_counts_data)\n",
        "unique_counts_df.show()"
      ],
      "execution_count": null,
      "outputs": [
        {
          "output_type": "stream",
          "name": "stdout",
          "text": [
            "+---------------+------------+\n",
            "|    Column_Name|Unique_Count|\n",
            "+---------------+------------+\n",
            "|         GENDER|           2|\n",
            "|      Car_Owner|           2|\n",
            "|  Propert_Owner|           2|\n",
            "|       CHILDREN|           6|\n",
            "|    Type_Income|           4|\n",
            "|      EDUCATION|           5|\n",
            "| Marital_status|           5|\n",
            "|   Housing_type|           6|\n",
            "|Type_Occupation|          19|\n",
            "| Family_Members|           7|\n",
            "|          label|           2|\n",
            "|            Age|          45|\n",
            "+---------------+------------+\n",
            "\n"
          ]
        }
      ]
    },
    {
      "cell_type": "code",
      "source": [
        "unique_values_data = []\n",
        "columns_to_exclude = [\"Annual_income\", \"Birthday_count\", \"Employment_Status\"]\n",
        "\n",
        "for col_name in df.columns:\n",
        "    if col_name not in columns_to_exclude:\n",
        "        unique_values = [row[0] for row in df.select(col_name).distinct().collect()]\n",
        "        unique_values_data.append(Row(Column_Name=col_name, Unique_Values=unique_values))\n",
        "\n",
        "unique_values_df = spark.createDataFrame(unique_values_data)\n",
        "unique_values_df.show(truncate=False)"
      ],
      "metadata": {
        "colab": {
          "base_uri": "https://localhost:8080/"
        },
        "id": "7vhcsnmSfQD9",
        "outputId": "f53fa613-c61e-44eb-c4cb-b7877be715b9"
      },
      "execution_count": null,
      "outputs": [
        {
          "output_type": "stream",
          "name": "stdout",
          "text": [
            "+---------------+-----------------------------------------------------------------------------------------------------------------------------------------------------------------------------------------------------------------------------------------------------------------------------------+\n",
            "|Column_Name    |Unique_Values                                                                                                                                                                                                                                                                      |\n",
            "+---------------+-----------------------------------------------------------------------------------------------------------------------------------------------------------------------------------------------------------------------------------------------------------------------------------+\n",
            "|GENDER         |[F, M]                                                                                                                                                                                                                                                                             |\n",
            "|Car_Owner      |[Y, N]                                                                                                                                                                                                                                                                             |\n",
            "|Propert_Owner  |[Y, N]                                                                                                                                                                                                                                                                             |\n",
            "|CHILDREN       |[1, 3, 4, 14, 2, 0]                                                                                                                                                                                                                                                                |\n",
            "|Type_Income    |[Commercial associate, State servant, Working, Pensioner]                                                                                                                                                                                                                          |\n",
            "|EDUCATION      |[Academic degree, Incomplete higher, Secondary / secondary special, Lower secondary, Higher education]                                                                                                                                                                             |\n",
            "|Marital_status |[Separated, Married, Single / not married, Widow, Civil marriage]                                                                                                                                                                                                                  |\n",
            "|Housing_type   |[House / apartment, Municipal apartment, Co-op apartment, Rented apartment, Office apartment, With parents]                                                                                                                                                                        |\n",
            "|Type_Occupation|[Managers, HR staff, Medicine staff, Accountants, Laborers, Unknown, Cleaning staff, Private service staff, Drivers, Sales staff, Realty agents, IT staff, Security staff, Secretaries, Low-skill Laborers, Core staff, Cooking staff, High skill tech staff, Waiters/barmen staff]|\n",
            "|Family_Members |[1, 6, 3, 5, 15, 4, 2]                                                                                                                                                                                                                                                             |\n",
            "|label          |[1, 0]                                                                                                                                                                                                                                                                             |\n",
            "|Age            |[31, 65, 53, 34, 28, 26, 27, 44, 22, 47, 52, 40, 57, 54, 48, 64, 41, 43, 37, 61, 35, 55, 59, 39, 23, 49, 51, 63, 50, 45, 38, 25, 24, 62, 29, 21, 32, 60, 56, 58, 33, 42, 30, 46, 36]                                                                                               |\n",
            "+---------------+-----------------------------------------------------------------------------------------------------------------------------------------------------------------------------------------------------------------------------------------------------------------------------------+\n",
            "\n"
          ]
        }
      ]
    },
    {
      "cell_type": "markdown",
      "metadata": {
        "id": "47ca3524"
      },
      "source": [
        "### Visualization: Column vs Unique Count"
      ]
    },
    {
      "cell_type": "code",
      "metadata": {
        "colab": {
          "base_uri": "https://localhost:8080/",
          "height": 528
        },
        "id": "7a3eb8cc",
        "outputId": "38ca49a6-63c2-40e1-a305-74aee3851d5a"
      },
      "source": [
        "# Convert Spark DataFrame to Pandas DataFrame for visualization\n",
        "unique_counts_pd = unique_counts_df.toPandas()\n",
        "\n",
        "plt.figure(figsize=(10, 6))\n",
        "sns.barplot(x='Column_Name', y='Unique_Count', data=unique_counts_pd)\n",
        "plt.xticks(rotation=80)\n",
        "plt.title('Unique Value Count per Column')\n",
        "plt.xlabel('Column Name')\n",
        "plt.ylabel('Unique Count')\n",
        "plt.tight_layout()\n",
        "plt.show()"
      ],
      "execution_count": null,
      "outputs": [
        {
          "output_type": "display_data",
          "data": {
            "text/plain": [
              "<Figure size 1000x600 with 1 Axes>"
            ],
            "image/png": "[encoded data removed]"
          },
          "metadata": {}
        }
      ]
    },
    {
      "cell_type": "code",
      "source": [
        "df.show(20)\n"
      ],
      "metadata": {
        "colab": {
          "base_uri": "https://localhost:8080/"
        },
        "id": "i7pTJ1ieikSy",
        "outputId": "621851fa-77a1-4850-f40d-f93465ee0b1b"
      },
      "execution_count": null,
      "outputs": [
        {
          "output_type": "stream",
          "name": "stdout",
          "text": [
            "+------+---------+-------------+--------+-------------+--------------------+--------------------+--------------------+-----------------+---------------+--------------+-----+---+-----------------+\n",
            "|GENDER|Car_Owner|Propert_Owner|CHILDREN|Annual_income|         Type_Income|           EDUCATION|      Marital_status|     Housing_type|Type_Occupation|Family_Members|label|Age|Employment_Status|\n",
            "+------+---------+-------------+--------+-------------+--------------------+--------------------+--------------------+-----------------+---------------+--------------+-----+---+-----------------+\n",
            "|     F|        Y|            N|       0|     315000.0|Commercial associate|    Higher education|             Married|House / apartment|        Unknown|             2|    1| 37|              586|\n",
            "|     F|        Y|            N|       0|     191399.3|Commercial associate|    Higher education|             Married|House / apartment|        Unknown|             2|    1| 37|              586|\n",
            "|     F|        Y|            N|       0|     315000.0|Commercial associate|    Higher education|             Married|House / apartment|        Unknown|             2|    1| 37|              586|\n",
            "|     F|        Y|            N|       0|     315000.0|           Pensioner|    Higher education|             Married|House / apartment|        Unknown|             2|    1| 37|              586|\n",
            "|     F|        Y|            N|       0|     315000.0|Commercial associate|    Higher education|             Married|House / apartment|        Unknown|             2|    1| 37|              586|\n",
            "|     M|        Y|            Y|       1|     450000.0|Commercial associate|Secondary / secon...|             Married|House / apartment|     Core staff|             3|    1| 50|              678|\n",
            "|     M|        Y|            Y|       1|     450000.0|           Pensioner|Secondary / secon...|             Married|House / apartment|     Core staff|             3|    1| 50|              678|\n",
            "|     M|        Y|            Y|       1|     450000.0|Commercial associate|Secondary / secon...|Single / not married|House / apartment|     Core staff|             1|    1| 50|              678|\n",
            "|     F|        Y|            Y|       0|      90000.0|             Working|Secondary / secon...|             Married|House / apartment|  Cooking staff|             2|    1| 52|             1002|\n",
            "|     F|        Y|            Y|       0|     191399.3|             Working|Secondary / secon...|             Married|House / apartment|  Cooking staff|             2|    1| 52|             1002|\n",
            "|     F|        Y|            Y|       0|      90000.0|             Working|Secondary / secon...|             Married|House / apartment|  Cooking staff|             2|    1| 52|             1002|\n",
            "|     M|        N|            N|       1|     472500.0|           Pensioner|    Higher education|             Married|     With parents|        Unknown|             3|    1| 24|              913|\n",
            "|     M|        N|            Y|       0|     270000.0|             Working|Secondary / secon...|             Married|House / apartment|       Laborers|             2|    1| 46|              248|\n",
            "|     M|        N|            Y|       0|     270000.0|             Working|Secondary / secon...|Single / not married|House / apartment|       Laborers|             2|    1| 46|              248|\n",
            "|     F|        N|            Y|       0|     126000.0|Commercial associate|    Higher education|Single / not married|House / apartment|    Sales staff|             1|    1| 52|             2470|\n",
            "|     F|        N|            Y|       0|     126000.0|Commercial associate|    Higher education|Single / not married|House / apartment|    Sales staff|             1|    1| 52|             2470|\n",
            "|     M|        N|            Y|       0|      90000.0|           Pensioner|Secondary / secon...|             Married|House / apartment|        Unknown|             2|    1| 52|             1644|\n",
            "|     M|        N|            N|       0|     202500.0|             Working|    Higher education|Single / not married|House / apartment|        Unknown|             1|    1| 35|             4327|\n",
            "|     M|        Y|            Y|       0|     202500.0|Commercial associate|Secondary / secon...|      Civil marriage|House / apartment|       Laborers|             2|    1| 33|             1674|\n",
            "|     M|        N|            Y|       0|     157500.0|Commercial associate|    Higher education|      Civil marriage|House / apartment|    Accountants|             2|    1| 49|             1086|\n",
            "+------+---------+-------------+--------+-------------+--------------------+--------------------+--------------------+-----------------+---------------+--------------+-----+---+-----------------+\n",
            "only showing top 20 rows\n",
            "\n"
          ]
        }
      ]
    },
    {
      "cell_type": "code",
      "source": [
        "print(df.count())"
      ],
      "metadata": {
        "colab": {
          "base_uri": "https://localhost:8080/"
        },
        "id": "GjqRFInOtfZ8",
        "outputId": "4aacb9c2-5018-495d-f3e3-6dda76b51c50"
      },
      "execution_count": null,
      "outputs": [
        {
          "output_type": "stream",
          "name": "stdout",
          "text": [
            "1269\n"
          ]
        }
      ]
    },
    {
      "cell_type": "markdown",
      "metadata": {
        "id": "6e85bc78"
      },
      "source": [
        "## Feature Engineering\n",
        "\n",
        "Categorical features are converted into numerical representations using String Indexing and One-Hot Encoding. Numerical features are scaled using StandardScaler to ensure they have zero mean and unit variance, which is important for many machine learning algorithms. All features are then assembled into a single vector column."
      ]
    },
    {
      "cell_type": "code",
      "source": [
        "# Handle 'GENDER'\n",
        "indexer_gender = StringIndexer(inputCol=\"GENDER\", outputCol=\"GENDER_indexed\", handleInvalid=\"keep\")\n",
        "df = indexer_gender.fit(df).transform(df)\n",
        "\n",
        "# Handle 'Car_Owner'\n",
        "indexer_car = StringIndexer(inputCol=\"Car_Owner\", outputCol=\"Car_Owner_indexed\", handleInvalid=\"keep\")\n",
        "df = indexer_car.fit(df).transform(df)\n",
        "\n",
        "# Handle 'Type_Income'\n",
        "indexer_income = StringIndexer(inputCol=\"Type_Income\", outputCol=\"Type_Income_indexed\", handleInvalid=\"keep\")\n",
        "df = indexer_income.fit(df).transform(df)\n",
        "\n",
        "# Handle other categorical features (Propert_Owner, EDUCATION, Marital_status, Housing_type, Type_Occupation)\n",
        "categorical_cols_remaining = ['Propert_Owner', 'EDUCATION', 'Marital_status', 'Housing_type', 'Type_Occupation']\n",
        "\n",
        "for col_name in categorical_cols_remaining:\n",
        "    indexer = StringIndexer(inputCol=col_name, outputCol=col_name + \"_indexed\", handleInvalid=\"keep\")\n",
        "    df = indexer.fit(df).transform(df)\n",
        "    # Note: One-Hot Encoding will be done after assembling all indexed categorical features\n",
        "\n",
        "df.show(5)"
      ],
      "metadata": {
        "colab": {
          "base_uri": "https://localhost:8080/"
        },
        "id": "QBW_a1CN0drk",
        "outputId": "df4fe481-ad59-4085-cfa1-af3cbbdbc858"
      },
      "execution_count": null,
      "outputs": [
        {
          "output_type": "stream",
          "name": "stdout",
          "text": [
            "+------+---------+-------------+--------+-------------+--------------------+----------------+--------------+-----------------+---------------+--------------+-----+---+-----------------+--------------+-----------------+-------------------+---------------------+-----------------+----------------------+--------------------+-----------------------+\n",
            "|GENDER|Car_Owner|Propert_Owner|CHILDREN|Annual_income|         Type_Income|       EDUCATION|Marital_status|     Housing_type|Type_Occupation|Family_Members|label|Age|Employment_Status|GENDER_indexed|Car_Owner_indexed|Type_Income_indexed|Propert_Owner_indexed|EDUCATION_indexed|Marital_status_indexed|Housing_type_indexed|Type_Occupation_indexed|\n",
            "+------+---------+-------------+--------+-------------+--------------------+----------------+--------------+-----------------+---------------+--------------+-----+---+-----------------+--------------+-----------------+-------------------+---------------------+-----------------+----------------------+--------------------+-----------------------+\n",
            "|     F|        Y|            N|       0|     315000.0|Commercial associate|Higher education|       Married|House / apartment|        Unknown|             2|    1| 37|              586|           0.0|              1.0|                1.0|                  1.0|              1.0|                   0.0|                 0.0|                    1.0|\n",
            "|     F|        Y|            N|       0|     191399.3|Commercial associate|Higher education|       Married|House / apartment|        Unknown|             2|    1| 37|              586|           0.0|              1.0|                1.0|                  1.0|              1.0|                   0.0|                 0.0|                    1.0|\n",
            "|     F|        Y|            N|       0|     315000.0|Commercial associate|Higher education|       Married|House / apartment|        Unknown|             2|    1| 37|              586|           0.0|              1.0|                1.0|                  1.0|              1.0|                   0.0|                 0.0|                    1.0|\n",
            "|     F|        Y|            N|       0|     315000.0|           Pensioner|Higher education|       Married|House / apartment|        Unknown|             2|    1| 37|              586|           0.0|              1.0|                3.0|                  1.0|              1.0|                   0.0|                 0.0|                    1.0|\n",
            "|     F|        Y|            N|       0|     315000.0|Commercial associate|Higher education|       Married|House / apartment|        Unknown|             2|    1| 37|              586|           0.0|              1.0|                1.0|                  1.0|              1.0|                   0.0|                 0.0|                    1.0|\n",
            "+------+---------+-------------+--------+-------------+--------------------+----------------+--------------+-----------------+---------------+--------------+-----+---+-----------------+--------------+-----------------+-------------------+---------------------+-----------------+----------------------+--------------------+-----------------------+\n",
            "only showing top 5 rows\n",
            "\n"
          ]
        }
      ]
    },
    {
      "cell_type": "markdown",
      "metadata": {
        "id": "f6be9588"
      },
      "source": [
        "### Scale Numerical Features"
      ]
    },
    {
      "cell_type": "code",
      "metadata": {
        "colab": {
          "base_uri": "https://localhost:8080/"
        },
        "id": "d96bce82",
        "outputId": "10b94d6b-f1d2-43b9-f705-4e8797b1f7b6"
      },
      "source": [
        "# Identify numerical columns\n",
        "numerical_cols = ['Annual_income', 'Age', 'Employment_Status', 'Family_Members']\n",
        "\n",
        "# Assemble numerical features into a single vector column\n",
        "assembler_numerical = VectorAssembler(inputCols=numerical_cols, outputCol=\"numerical_features_assembled\")\n",
        "df = assembler_numerical.transform(df)\n",
        "\n",
        "# Scale the numerical features\n",
        "scaler = StandardScaler(inputCol=\"numerical_features_assembled\", outputCol=\"scaled_numerical_features\", withStd=True, withMean=True)\n",
        "scaler_model = scaler.fit(df)\n",
        "df = scaler_model.transform(df)\n",
        "\n",
        "df.show(5)"
      ],
      "execution_count": null,
      "outputs": [
        {
          "output_type": "stream",
          "name": "stdout",
          "text": [
            "+------+---------+-------------+--------+-------------+--------------------+----------------+--------------+-----------------+---------------+--------------+-----+---+-----------------+--------------+-----------------+-------------------+---------------------+-----------------+----------------------+--------------------+-----------------------+----------------------------+-------------------------+\n",
            "|GENDER|Car_Owner|Propert_Owner|CHILDREN|Annual_income|         Type_Income|       EDUCATION|Marital_status|     Housing_type|Type_Occupation|Family_Members|label|Age|Employment_Status|GENDER_indexed|Car_Owner_indexed|Type_Income_indexed|Propert_Owner_indexed|EDUCATION_indexed|Marital_status_indexed|Housing_type_indexed|Type_Occupation_indexed|numerical_features_assembled|scaled_numerical_features|\n",
            "+------+---------+-------------+--------+-------------+--------------------+----------------+--------------+-----------------+---------------+--------------+-----+---+-----------------+--------------+-----------------+-------------------+---------------------+-----------------+----------------------+--------------------+-----------------------+----------------------------+-------------------------+\n",
            "|     F|        Y|            N|       0|     315000.0|Commercial associate|Higher education|       Married|House / apartment|        Unknown|             2|    1| 37|              586|           0.0|              1.0|                1.0|                  1.0|              1.0|                   0.0|                 0.0|                    1.0|        [315000.0,37.0,58...|     [0.99473014037963...|\n",
            "|     F|        Y|            N|       0|     191399.3|Commercial associate|Higher education|       Married|House / apartment|        Unknown|             2|    1| 37|              586|           0.0|              1.0|                1.0|                  1.0|              1.0|                   0.0|                 0.0|                    1.0|        [191399.3,37.0,58...|     [-0.0684328049202...|\n",
            "|     F|        Y|            N|       0|     315000.0|Commercial associate|Higher education|       Married|House / apartment|        Unknown|             2|    1| 37|              586|           0.0|              1.0|                1.0|                  1.0|              1.0|                   0.0|                 0.0|                    1.0|        [315000.0,37.0,58...|     [0.99473014037963...|\n",
            "|     F|        Y|            N|       0|     315000.0|           Pensioner|Higher education|       Married|House / apartment|        Unknown|             2|    1| 37|              586|           0.0|              1.0|                3.0|                  1.0|              1.0|                   0.0|                 0.0|                    1.0|        [315000.0,37.0,58...|     [0.99473014037963...|\n",
            "|     F|        Y|            N|       0|     315000.0|Commercial associate|Higher education|       Married|House / apartment|        Unknown|             2|    1| 37|              586|           0.0|              1.0|                1.0|                  1.0|              1.0|                   0.0|                 0.0|                    1.0|        [315000.0,37.0,58...|     [0.99473014037963...|\n",
            "+------+---------+-------------+--------+-------------+--------------------+----------------+--------------+-----------------+---------------+--------------+-----+---+-----------------+--------------+-----------------+-------------------+---------------------+-----------------+----------------------+--------------------+-----------------------+----------------------------+-------------------------+\n",
            "only showing top 5 rows\n",
            "\n"
          ]
        }
      ]
    },
    {
      "cell_type": "markdown",
      "metadata": {
        "id": "5acaef7b"
      },
      "source": [
        "### Assemble Features"
      ]
    },
    {
      "cell_type": "code",
      "metadata": {
        "colab": {
          "base_uri": "https://localhost:8080/"
        },
        "id": "b179c2b2",
        "outputId": "6878bea8-5589-43e2-a625-f9415582fa34"
      },
      "source": [
        "# Identify the indexed categorical feature columns and scaled numerical feature column\n",
        "indexed_categorical_cols = [col for col in df.columns if col.endswith(\"_indexed\")]\n",
        "scaled_numerical_col = \"scaled_numerical_features\"\n",
        "\n",
        "# Apply One-Hot Encoding to all indexed categorical features\n",
        "encoders = [OneHotEncoder(inputCol=col, outputCol=col.replace(\"_indexed\", \"_encoded\")) for col in indexed_categorical_cols]\n",
        "\n",
        "from pyspark.ml import Pipeline\n",
        "pipeline_encoder = Pipeline(stages=encoders)\n",
        "df = pipeline_encoder.fit(df).transform(df)\n",
        "\n",
        "# Identify the encoded categorical feature columns\n",
        "encoded_categorical_cols = [col for col in df.columns if col.endswith(\"_encoded\")]\n",
        "\n",
        "\n",
        "# Combine all feature columns (scaled numerical and encoded categorical) into a single vector column\n",
        "feature_columns = [scaled_numerical_col] + encoded_categorical_cols\n",
        "assembler_final = VectorAssembler(inputCols=feature_columns, outputCol=\"features\")\n",
        "df = assembler_final.transform(df)\n",
        "\n",
        "df.select(\"features\", \"label\").show(5, truncate=False)"
      ],
      "execution_count": null,
      "outputs": [
        {
          "output_type": "stream",
          "name": "stdout",
          "text": [
            "+-----------------------------------------------------------------------------------------------------------------------------------------------------+-----+\n",
            "|features                                                                                                                                             |label|\n",
            "+-----------------------------------------------------------------------------------------------------------------------------------------------------+-----+\n",
            "|(49,[0,1,2,3,4,7,9,13,15,19,24,31],[0.9947301403796339,-0.3817835611988816,-0.867763200416552,-0.2692010718092772,1.0,1.0,1.0,1.0,1.0,1.0,1.0,1.0])  |1    |\n",
            "|(49,[0,1,2,3,4,7,9,13,15,19,24,31],[-0.06843280492023593,-0.3817835611988816,-0.867763200416552,-0.2692010718092772,1.0,1.0,1.0,1.0,1.0,1.0,1.0,1.0])|1    |\n",
            "|(49,[0,1,2,3,4,7,9,13,15,19,24,31],[0.9947301403796339,-0.3817835611988816,-0.867763200416552,-0.2692010718092772,1.0,1.0,1.0,1.0,1.0,1.0,1.0,1.0])  |1    |\n",
            "|(49,[0,1,2,3,4,7,11,13,15,19,24,31],[0.9947301403796339,-0.3817835611988816,-0.867763200416552,-0.2692010718092772,1.0,1.0,1.0,1.0,1.0,1.0,1.0,1.0]) |1    |\n",
            "|(49,[0,1,2,3,4,7,9,13,15,19,24,31],[0.9947301403796339,-0.3817835611988816,-0.867763200416552,-0.2692010718092772,1.0,1.0,1.0,1.0,1.0,1.0,1.0,1.0])  |1    |\n",
            "+-----------------------------------------------------------------------------------------------------------------------------------------------------+-----+\n",
            "only showing top 5 rows\n",
            "\n"
          ]
        }
      ]
    },
    {
      "cell_type": "markdown",
      "metadata": {
        "id": "0ddf4f53"
      },
      "source": [
        "### Split Data into Training and Testing Sets"
      ]
    },
    {
      "cell_type": "code",
      "metadata": {
        "colab": {
          "base_uri": "https://localhost:8080/"
        },
        "id": "29d65bb9",
        "outputId": "c7209341-a3bc-4301-cd6b-54389a3860ed"
      },
      "source": [
        "# Split the data into training and testing sets\n",
        "train_data, test_data = df.randomSplit([0.8, 0.2], seed=42)\n",
        "\n",
        "print(\"Training Data Count:\", train_data.count())\n",
        "print(\"Testing Data Count:\", test_data.count())\n",
        "\n",
        "train_data.show(5, truncate=False)\n",
        "test_data.show(5, truncate=False)"
      ],
      "execution_count": null,
      "outputs": [
        {
          "output_type": "stream",
          "name": "stdout",
          "text": [
            "Training Data Count: 1048\n",
            "Testing Data Count: 221\n",
            "+------+---------+-------------+--------+-------------+--------------------+-----------------------------+--------------+-----------------+---------------+--------------+-----+---+-----------------+--------------+-----------------+-------------------+---------------------+-----------------+----------------------+--------------------+-----------------------+----------------------------+----------------------------------------------------------------------------------+--------------+-----------------+-------------------+---------------------+-----------------+----------------------+--------------------+-----------------------+------------------------------------------------------------------------------------------------------------------------------------------------------+\n",
            "|GENDER|Car_Owner|Propert_Owner|CHILDREN|Annual_income|Type_Income         |EDUCATION                    |Marital_status|Housing_type     |Type_Occupation|Family_Members|label|Age|Employment_Status|GENDER_indexed|Car_Owner_indexed|Type_Income_indexed|Propert_Owner_indexed|EDUCATION_indexed|Marital_status_indexed|Housing_type_indexed|Type_Occupation_indexed|numerical_features_assembled|scaled_numerical_features                                                         |GENDER_encoded|Car_Owner_encoded|Type_Income_encoded|Propert_Owner_encoded|EDUCATION_encoded|Marital_status_encoded|Housing_type_encoded|Type_Occupation_encoded|features                                                                                                                                              |\n",
            "+------+---------+-------------+--------+-------------+--------------------+-----------------------------+--------------+-----------------+---------------+--------------+-----+---+-----------------+--------------+-----------------+-------------------+---------------------+-----------------+----------------------+--------------------+-----------------------+----------------------------+----------------------------------------------------------------------------------+--------------+-----------------+-------------------+---------------------+-----------------+----------------------+--------------------+-----------------------+------------------------------------------------------------------------------------------------------------------------------------------------------+\n",
            "|F     |N        |N            |0       |45000.0      |State servant       |Secondary / secondary special|Married       |House / apartment|Medicine staff |2             |0    |38 |5334             |0.0           |0.0              |2.0                |1.0                  |0.0              |0.0                   |0.0                 |7.0                    |[45000.0,38.0,5334.0,2.0]   |[-1.3277000338100335,-0.27863616090904103,1.1101065872035552,-0.2692010718092772] |(2,[0],[1.0]) |(2,[0],[1.0])    |(4,[2],[1.0])      |(2,[1],[1.0])        |(5,[0],[1.0])    |(5,[0],[1.0])         |(6,[0],[1.0])       |(19,[7],[1.0])         |(49,[0,1,2,3,4,6,10,13,14,19,24,37],[-1.3277000338100335,-0.27863616090904103,1.1101065872035552,-0.2692010718092772,1.0,1.0,1.0,1.0,1.0,1.0,1.0,1.0])|\n",
            "|F     |N        |N            |0       |45000.0      |Working             |Secondary / secondary special|Separated     |House / apartment|Sales staff    |1             |0    |39 |798              |0.0           |0.0              |0.0                |1.0                  |0.0              |3.0                   |0.0                 |4.0                    |[45000.0,39.0,798.0,1.0]    |[-1.3277000338100335,-0.17548876061920046,-0.7794505645750476,-1.2920039464379514]|(2,[0],[1.0]) |(2,[0],[1.0])    |(4,[0],[1.0])      |(2,[1],[1.0])        |(5,[0],[1.0])    |(5,[3],[1.0])         |(6,[0],[1.0])       |(19,[4],[1.0])         |(49,[0,1,2,3,4,6,8,13,14,22,24,34],[-1.3277000338100335,-0.17548876061920046,-0.7794505645750476,-1.2920039464379514,1.0,1.0,1.0,1.0,1.0,1.0,1.0,1.0])|\n",
            "|F     |N        |N            |0       |67500.0      |Commercial associate|Secondary / secondary special|Civil marriage|House / apartment|Laborers       |2             |0    |52 |171              |0.0           |0.0              |1.0                |1.0                  |0.0              |2.0                   |0.0                 |0.0                    |[67500.0,52.0,171.0,2.0]    |[-1.1341641859608946,1.1654274431487273,-1.0406393507666667,-0.2692010718092772]  |(2,[0],[1.0]) |(2,[0],[1.0])    |(4,[1],[1.0])      |(2,[1],[1.0])        |(5,[0],[1.0])    |(5,[2],[1.0])         |(6,[0],[1.0])       |(19,[0],[1.0])         |(49,[0,1,2,3,4,6,9,13,14,21,24,30],[-1.1341641859608946,1.1654274431487273,-1.0406393507666667,-0.2692010718092772,1.0,1.0,1.0,1.0,1.0,1.0,1.0,1.0])  |\n",
            "|F     |N        |N            |0       |67500.0      |Working             |Secondary / secondary special|Married       |House / apartment|Sales staff    |2             |0    |27 |1876             |0.0           |0.0              |0.0                |1.0                  |0.0              |0.0                   |0.0                 |4.0                    |[67500.0,27.0,1876.0,2.0]   |[-1.1341641859608946,-1.4132575640972875,-0.3303891427017377,-0.2692010718092772] |(2,[0],[1.0]) |(2,[0],[1.0])    |(4,[0],[1.0])      |(2,[1],[1.0])        |(5,[0],[1.0])    |(5,[0],[1.0])         |(6,[0],[1.0])       |(19,[4],[1.0])         |(49,[0,1,2,3,4,6,8,13,14,19,24,34],[-1.1341641859608946,-1.4132575640972875,-0.3303891427017377,-0.2692010718092772,1.0,1.0,1.0,1.0,1.0,1.0,1.0,1.0]) |\n",
            "|F     |N        |N            |0       |67500.0      |Working             |Secondary / secondary special|Married       |House / apartment|Sales staff    |2             |0    |27 |1876             |0.0           |0.0              |0.0                |1.0                  |0.0              |0.0                   |0.0                 |4.0                    |[67500.0,27.0,1876.0,2.0]   |[-1.1341641859608946,-1.4132575640972875,-0.3303891427017377,-0.2692010718092772] |(2,[0],[1.0]) |(2,[0],[1.0])    |(4,[0],[1.0])      |(2,[1],[1.0])        |(5,[0],[1.0])    |(5,[0],[1.0])         |(6,[0],[1.0])       |(19,[4],[1.0])         |(49,[0,1,2,3,4,6,8,13,14,19,24,34],[-1.1341641859608946,-1.4132575640972875,-0.3303891427017377,-0.2692010718092772,1.0,1.0,1.0,1.0,1.0,1.0,1.0,1.0]) |\n",
            "+------+---------+-------------+--------+-------------+--------------------+-----------------------------+--------------+-----------------+---------------+--------------+-----+---+-----------------+--------------+-----------------+-------------------+---------------------+-----------------+----------------------+--------------------+-----------------------+----------------------------+----------------------------------------------------------------------------------+--------------+-----------------+-------------------+---------------------+-----------------+----------------------+--------------------+-----------------------+------------------------------------------------------------------------------------------------------------------------------------------------------+\n",
            "only showing top 5 rows\n",
            "\n",
            "+------+---------+-------------+--------+-------------+--------------------+-----------------------------+--------------------+-------------------+---------------------+--------------+-----+---+-----------------+--------------+-----------------+-------------------+---------------------+-----------------+----------------------+--------------------+-----------------------+----------------------------+--------------------------------------------------------------------------------+--------------+-----------------+-------------------+---------------------+-----------------+----------------------+--------------------+-----------------------+----------------------------------------------------------------------------------------------------------------------------------------------------+\n",
            "|GENDER|Car_Owner|Propert_Owner|CHILDREN|Annual_income|Type_Income         |EDUCATION                    |Marital_status      |Housing_type       |Type_Occupation      |Family_Members|label|Age|Employment_Status|GENDER_indexed|Car_Owner_indexed|Type_Income_indexed|Propert_Owner_indexed|EDUCATION_indexed|Marital_status_indexed|Housing_type_indexed|Type_Occupation_indexed|numerical_features_assembled|scaled_numerical_features                                                       |GENDER_encoded|Car_Owner_encoded|Type_Income_encoded|Propert_Owner_encoded|EDUCATION_encoded|Marital_status_encoded|Housing_type_encoded|Type_Occupation_encoded|features                                                                                                                                            |\n",
            "+------+---------+-------------+--------+-------------+--------------------+-----------------------------+--------------------+-------------------+---------------------+--------------+-----+---+-----------------+--------------+-----------------+-------------------+---------------------+-----------------+----------------------+--------------------+-----------------------+----------------------------+--------------------------------------------------------------------------------+--------------+-----------------+-------------------+---------------------+-----------------+----------------------+--------------------+-----------------------+----------------------------------------------------------------------------------------------------------------------------------------------------+\n",
            "|F     |N        |N            |0       |67500.0      |Commercial associate|Higher education             |Separated           |House / apartment  |Core staff           |1             |1    |52 |499              |0.0           |0.0              |1.0                |1.0                  |1.0              |3.0                   |0.0                 |2.0                    |[67500.0,52.0,499.0,1.0]    |[-1.1341641859608946,1.1654274431487273,-0.9040047066345278,-1.2920039464379514]|(2,[0],[1.0]) |(2,[0],[1.0])    |(4,[1],[1.0])      |(2,[1],[1.0])        |(5,[1],[1.0])    |(5,[3],[1.0])         |(6,[0],[1.0])       |(19,[2],[1.0])         |(49,[0,1,2,3,4,6,9,13,15,22,24,32],[-1.1341641859608946,1.1654274431487273,-0.9040047066345278,-1.2920039464379514,1.0,1.0,1.0,1.0,1.0,1.0,1.0,1.0])|\n",
            "|F     |N        |N            |0       |67500.0      |Working             |Secondary / secondary special|Married             |House / apartment  |Sales staff          |2             |0    |55 |7013             |0.0           |0.0              |0.0                |1.0                  |0.0              |0.0                   |0.0                 |4.0                    |[67500.0,55.0,7013.0,2.0]   |[-1.1341641859608946,1.4748696440182492,1.8095260003067901,-0.2692010718092772] |(2,[0],[1.0]) |(2,[0],[1.0])    |(4,[0],[1.0])      |(2,[1],[1.0])        |(5,[0],[1.0])    |(5,[0],[1.0])         |(6,[0],[1.0])       |(19,[4],[1.0])         |(49,[0,1,2,3,4,6,8,13,14,19,24,34],[-1.1341641859608946,1.4748696440182492,1.8095260003067901,-0.2692010718092772,1.0,1.0,1.0,1.0,1.0,1.0,1.0,1.0]) |\n",
            "|F     |N        |N            |0       |67500.0      |Working             |Secondary / secondary special|Married             |Municipal apartment|Cooking staff        |2             |0    |50 |11451            |0.0           |0.0              |0.0                |1.0                  |0.0              |0.0                   |2.0                 |11.0                   |[67500.0,50.0,11451.0,2.0]  |[-1.1341641859608946,0.9591326425690461,3.658259386460546,-0.2692010718092772]  |(2,[0],[1.0]) |(2,[0],[1.0])    |(4,[0],[1.0])      |(2,[1],[1.0])        |(5,[0],[1.0])    |(5,[0],[1.0])         |(6,[2],[1.0])       |(19,[11],[1.0])        |(49,[0,1,2,3,4,6,8,13,14,19,26,41],[-1.1341641859608946,0.9591326425690461,3.658259386460546,-0.2692010718092772,1.0,1.0,1.0,1.0,1.0,1.0,1.0,1.0])  |\n",
            "|F     |N        |N            |0       |81000.0      |Working             |Secondary / secondary special|Single / not married|House / apartment  |Private service staff|1             |0    |49 |377              |0.0           |0.0              |0.0                |1.0                  |0.0              |1.0                   |0.0                 |12.0                   |[81000.0,49.0,377.0,1.0]    |[-1.018042677251411,0.8559852422792055,-0.9548261291470916,-1.2920039464379514] |(2,[0],[1.0]) |(2,[0],[1.0])    |(4,[0],[1.0])      |(2,[1],[1.0])        |(5,[0],[1.0])    |(5,[1],[1.0])         |(6,[0],[1.0])       |(19,[12],[1.0])        |(49,[0,1,2,3,4,6,8,13,14,20,24,42],[-1.018042677251411,0.8559852422792055,-0.9548261291470916,-1.2920039464379514,1.0,1.0,1.0,1.0,1.0,1.0,1.0,1.0]) |\n",
            "|F     |N        |N            |0       |90000.0      |Working             |Secondary / secondary special|Married             |House / apartment  |Secretaries          |2             |0    |48 |3273             |0.0           |0.0              |0.0                |1.0                  |0.0              |0.0                   |0.0                 |14.0                   |[90000.0,48.0,3273.0,2.0]   |[-0.9406283381117556,0.7528378419893649,0.251557801970817,-0.2692010718092772]  |(2,[0],[1.0]) |(2,[0],[1.0])    |(4,[0],[1.0])      |(2,[1],[1.0])        |(5,[0],[1.0])    |(5,[0],[1.0])         |(6,[0],[1.0])       |(19,[14],[1.0])        |(49,[0,1,2,3,4,6,8,13,14,19,24,44],[-0.9406283381117556,0.7528378419893649,0.251557801970817,-0.2692010718092772,1.0,1.0,1.0,1.0,1.0,1.0,1.0,1.0])  |\n",
            "+------+---------+-------------+--------+-------------+--------------------+-----------------------------+--------------------+-------------------+---------------------+--------------+-----+---+-----------------+--------------+-----------------+-------------------+---------------------+-----------------+----------------------+--------------------+-----------------------+----------------------------+--------------------------------------------------------------------------------+--------------+-----------------+-------------------+---------------------+-----------------+----------------------+--------------------+-----------------------+----------------------------------------------------------------------------------------------------------------------------------------------------+\n",
            "only showing top 5 rows\n",
            "\n"
          ]
        }
      ]
    },
    {
      "cell_type": "markdown",
      "metadata": {
        "id": "65a4759c"
      },
      "source": [
        "## Model Training and Evaluation\n",
        "\n",
        "A Logistic Regression model is trained on the preprocessed and engineered features. The data is split into training and testing sets to evaluate the model's performance. The Area Under the ROC Curve (AUC) and Accuracy are used as evaluation metrics to assess the model's ability to predict credit card defaults."
      ]
    },
    {
      "cell_type": "code",
      "metadata": {
        "colab": {
          "base_uri": "https://localhost:8080/"
        },
        "id": "03f8f8a0",
        "outputId": "3616054b-2fda-40da-87a2-6635764bad4b"
      },
      "source": [
        "# Initialize Logistic Regression model\n",
        "lr = LogisticRegression(labelCol=\"label\", featuresCol=\"features\")\n",
        "\n",
        "# Train the model on the training data\n",
        "lr_model = lr.fit(train_data)\n",
        "\n",
        "print(\"Logistic Regression model training complete.\")"
      ],
      "execution_count": null,
      "outputs": [
        {
          "output_type": "stream",
          "name": "stdout",
          "text": [
            "Logistic Regression model training complete.\n"
          ]
        }
      ]
    },
    {
      "cell_type": "markdown",
      "metadata": {
        "id": "96e434b4"
      },
      "source": [
        "### Train Logistic Regression Model"
      ]
    },
    {
      "cell_type": "code",
      "source": [
        "# Make predictions on the test data\n",
        "predictions = lr_model.transform(test_data)\n",
        "\n",
        "# Select (prediction, true label) and call the accuracy evaluator\n",
        "evaluator = BinaryClassificationEvaluator(labelCol=\"label\", rawPredictionCol=\"rawPrediction\", metricName=\"areaUnderROC\")\n",
        "\n",
        "# Evaluate the model\n",
        "auc = evaluator.evaluate(predictions)\n",
        "print(f\"Area under ROC curve: {auc}\")\n",
        "\n",
        "# We can also calculate other metrics manually if needed, e.g., Accuracy, Precision, Recall, F1-score\n",
        "# For example, to calculate accuracy:\n",
        "accuracy = predictions.filter(predictions.label == predictions.prediction).count() / float(predictions.count())\n",
        "print(f\"Accuracy: {accuracy}\")\n",
        "\n",
        "# To get a confusion matrix (requires converting to Pandas for easier display)\n",
        "# from pyspark.sql.functions import col\n",
        "# confusion_matrix = predictions.groupBy(\"label\", \"prediction\").count().orderBy(\"label\", \"prediction\").toPandas()\n",
        "# print(\"Confusion Matrix:\")\n",
        "# print(confusion_matrix)"
      ],
      "metadata": {
        "colab": {
          "base_uri": "https://localhost:8080/"
        },
        "id": "tp6DrfOe3GOp",
        "outputId": "36c749ff-fd90-4548-a4fc-c76e04c5cb88"
      },
      "execution_count": null,
      "outputs": [
        {
          "output_type": "stream",
          "name": "stdout",
          "text": [
            "Area under ROC curve: 0.6661176987263937\n",
            "Accuracy: 0.8823529411764706\n"
          ]
        }
      ]
    },
    {
      "cell_type": "markdown",
      "metadata": {
        "id": "ec264b01"
      },
      "source": [
        "## Conclusion\n",
        "\n",
        "Based on the evaluation metrics, the performance of the Logistic Regression model is assessed. Further steps could involve exploring other machine learning algorithms, hyperparameter tuning, or more advanced feature engineering techniques to potentially improve the model's predictive power."
      ]
    }
  ]
}